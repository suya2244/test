{
  "nbformat": 4,
  "nbformat_minor": 0,
  "metadata": {
    "colab": {
      "name": "Untitled0.ipynb",
      "version": "0.3.2",
      "provenance": [],
      "include_colab_link": true
    },
    "kernelspec": {
      "name": "python3",
      "display_name": "Python 3"
    }
  },
  "cells": [
    {
      "cell_type": "markdown",
      "metadata": {
        "id": "view-in-github",
        "colab_type": "text"
      },
      "source": [
        "<a href=\"https://colab.research.google.com/github/suya2244/test/blob/master/Untitled0.ipynb\" target=\"_parent\"><img src=\"https://colab.research.google.com/assets/colab-badge.svg\" alt=\"Open In Colab\"/></a>"
      ]
    },
    {
      "metadata": {
        "id": "xHgV_VacnRbA",
        "colab_type": "code",
        "colab": {}
      },
      "cell_type": "code",
      "source": [
        "io_ids = [\n",
        "3698254, \n",
        "3250049, \n",
        "3454760, \n",
        "4065365, \n",
        "3211658, \n",
        "4650272, \n",
        "3725549, \n",
        "4601741, \n",
        "4067831, \n",
        "3760744, \n",
        "4010780, \n",
        "3795842, \n",
        "3759450, \n",
        "3065853, \n",
        "4856665, \n",
        "3251813, \n",
        "3065745, \n",
        "3251822, \n",
        "3252740, \n",
        "5572066, \n",
        "3189746, \n",
        "3776468, \n",
        "3211943, \n",
        "3438041]"
      ],
      "execution_count": 0,
      "outputs": []
    },
    {
      "metadata": {
        "id": "rNHRQ3t7nZi-",
        "colab_type": "code",
        "colab": {}
      },
      "cell_type": "code",
      "source": [
        "ctl_creative_ids = [\"134889628; 134946179; 134946178;\",\n",
        "\"135444455; 135404581; 135436661;\",\n",
        "\"135455635; 135455636; 135455634;\",\n",
        "\"135414759; 135406008; 135405571;\",\n",
        "\"135406287; 135406110; 135405825;\",\n",
        "\"135412301; 135403709; 135418810;\",\n",
        "\"135454961; 135454963; 135454962;\",\n",
        "\"135454700; 135454701; 135405312;\",\n",
        "\"135447707; 135445090; 135419964;\",\n",
        "\"135418052; 135446055; 135447551;\",\n",
        "\"135391947; 135404084; 135449416;\",\n",
        "\"134858158; 134859200; 134858069;\",\n",
        "\"134857774; 134857755; 134859219;\",\n",
        "\"134886993; 134938161; 134884088;\",\n",
        "\"134946884; 134890293; 134946883;\",\n",
        "\"134890530; 134890430; 134890925;\",\n",
        "\"135174119; 135174592; 135181570;\",\n",
        "\"135183408; 135189587; 135183587;\",\n",
        "\"135195269; 135194476; 135346193;\",\n",
        "\"135277734; 135346884; 135323935;\",\n",
        "\"135188153; 135187175; 135188659;\",\n",
        "\"135182231; 135190311; 135188048;\",\n",
        "\"135188635; 135188163; 135188636;\",\n",
        "\"135192377; 135194206; 135194018;\"]"
      ],
      "execution_count": 0,
      "outputs": []
    },
    {
      "metadata": {
        "id": "9ShMdZT8ngFy",
        "colab_type": "code",
        "outputId": "01c1db58-155b-4422-c04a-cf38f795b6d8",
        "colab": {
          "base_uri": "https://localhost:8080/",
          "height": 425
        }
      },
      "cell_type": "code",
      "source": [
        "ctl_treatment = {\"Io Id == {}\".format(io_id): {\"Creative Assignments\": \"{}\".format(ctl_creative_ids[idx])} for idx, io_id in enumerate(io_ids)}\n",
        "ctl_treatment"
      ],
      "execution_count": 0,
      "outputs": [
        {
          "output_type": "execute_result",
          "data": {
            "text/plain": [
              "{'Io Id == 3065745': {'Creative Assignments': '135174119; 135174592; 135181570;'},\n",
              " 'Io Id == 3065853': {'Creative Assignments': '134886993; 134938161; 134884088;'},\n",
              " 'Io Id == 3189746': {'Creative Assignments': '135188153; 135187175; 135188659;'},\n",
              " 'Io Id == 3211658': {'Creative Assignments': '135406287; 135406110; 135405825;'},\n",
              " 'Io Id == 3211943': {'Creative Assignments': '135188635; 135188163; 135188636;'},\n",
              " 'Io Id == 3250049': {'Creative Assignments': '135444455; 135404581; 135436661;'},\n",
              " 'Io Id == 3251813': {'Creative Assignments': '134890530; 134890430; 134890925;'},\n",
              " 'Io Id == 3251822': {'Creative Assignments': '135183408; 135189587; 135183587;'},\n",
              " 'Io Id == 3252740': {'Creative Assignments': '135195269; 135194476; 135346193;'},\n",
              " 'Io Id == 3438041': {'Creative Assignments': '135192377; 135194206; 135194018;'},\n",
              " 'Io Id == 3454760': {'Creative Assignments': '135455635; 135455636; 135455634;'},\n",
              " 'Io Id == 3698254': {'Creative Assignments': '134889628; 134946179; 134946178;'},\n",
              " 'Io Id == 3725549': {'Creative Assignments': '135454961; 135454963; 135454962;'},\n",
              " 'Io Id == 3759450': {'Creative Assignments': '134857774; 134857755; 134859219;'},\n",
              " 'Io Id == 3760744': {'Creative Assignments': '135418052; 135446055; 135447551;'},\n",
              " 'Io Id == 3776468': {'Creative Assignments': '135182231; 135190311; 135188048;'},\n",
              " 'Io Id == 3795842': {'Creative Assignments': '134858158; 134859200; 134858069;'},\n",
              " 'Io Id == 4010780': {'Creative Assignments': '135391947; 135404084; 135449416;'},\n",
              " 'Io Id == 4065365': {'Creative Assignments': '135414759; 135406008; 135405571;'},\n",
              " 'Io Id == 4067831': {'Creative Assignments': '135447707; 135445090; 135419964;'},\n",
              " 'Io Id == 4601741': {'Creative Assignments': '135454700; 135454701; 135405312;'},\n",
              " 'Io Id == 4650272': {'Creative Assignments': '135412301; 135403709; 135418810;'},\n",
              " 'Io Id == 4856665': {'Creative Assignments': '134946884; 134890293; 134946883;'},\n",
              " 'Io Id == 5572066': {'Creative Assignments': '135277734; 135346884; 135323935;'}}"
            ]
          },
          "metadata": {
            "tags": []
          },
          "execution_count": 3
        }
      ]
    },
    {
      "metadata": {
        "id": "oUuQ9_qWnqzH",
        "colab_type": "code",
        "colab": {}
      },
      "cell_type": "code",
      "source": [
        ""
      ],
      "execution_count": 0,
      "outputs": []
    }
  ]
}